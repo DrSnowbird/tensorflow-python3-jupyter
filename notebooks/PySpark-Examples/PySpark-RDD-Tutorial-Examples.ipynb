{
 "cells": [
  {
   "cell_type": "code",
   "execution_count": 15,
   "metadata": {},
   "outputs": [],
   "source": [
    "import findspark\n",
    "findspark.init()\n",
    "\n",
    "import pyspark\n",
    "from pyspark import SparkContext\n",
    "from pyspark import SparkConf"
   ]
  },
  {
   "cell_type": "code",
   "execution_count": 18,
   "metadata": {},
   "outputs": [],
   "source": [
    "## -------------------------------\n",
    "## -- Use built-in Spark Server --\n",
    "## -------------------------------\n",
    "# conf = pyspark.SparkConf().set('spark.driver.host','127.0.0.1')\n",
    "# sc = pyspark.SparkContext(master='local', appName='appPySpark',conf=conf)\n",
    "conf = SparkConf().setAppName('appName').setMaster('local')\n",
    "sc = SparkContext(conf=conf)\n",
    "## -----------------------------\n",
    "## -- Use Remote Spark Server --\n",
    "## -----------------------------\n",
    "## (Class of Spark Version compatibility is mandatory! Or, the following connection will fail!)\n",
    "# conf = SparkConf().setAppName('appName').setMaster('spark://192.168.0.160:7077')\n",
    "# sc = SparkContext(conf=conf)"
   ]
  },
  {
   "cell_type": "code",
   "execution_count": 19,
   "metadata": {},
   "outputs": [
    {
     "name": "stdout",
     "output_type": "stream",
     "text": [
      "\n",
      "---- 1.) Find Max / Min Tuples with the same key: ----\n",
      "[('Z', 100), ('A', 26), ('B', 30), ('C', 40)]\n",
      "[('Z', 100), ('A', 80), ('B', 95), ('C', 88)]\n",
      "\n",
      "---- 2.) Aggregate Tuples with the same key and sport in acending order: ---\n",
      "[('Z', 100), ('A', 106), ('C', 128), ('B', 175)]\n",
      "\n",
      "---- 3.) Find Max / Min Tuples being aggregated with the same key: ----\n",
      "('Z', 100)\n",
      "('B', 175)\n",
      "\n",
      "---- 4.) Find the Max / Min Tuple (no aggregation for the same key: ----\n",
      "('A', 26)\n",
      "('Z', 100)\n",
      "\n",
      "---- 5.) Find the max / min value of all tuples: ----\n",
      "26\n",
      "100\n"
     ]
    }
   ],
   "source": [
    "inputRDD = sc.parallelize([(\"Z\", 100),(\"A\", 26),(\"B\", 30),(\"C\", 40),(\"B\", 50),(\"A\", 80),(\"B\", 95),(\"C\", 88)])\n",
    "\n",
    "print('\\n---- 1.) Find Max / Min Tuples with the same key: ----')\n",
    "reduced_min=inputRDD.reduceByKey( lambda a,b: a if a < b else b).collect()\n",
    "print(reduced_min)\n",
    "reduced_max=inputRDD.reduceByKey( lambda a,b: b if a < b else a).collect()\n",
    "print(reduced_max)\n",
    "\n",
    "print('\\n---- 2.) Aggregate Tuples with the same key and sport in acending order: ---') \n",
    "aggregated_tuples=inputRDD.reduceByKey(lambda a,b: a+b).sortBy(lambda x: x[1]).collect()\n",
    "print(aggregated_tuples)\n",
    "\n",
    "print('\\n---- 3.) Find Max / Min Tuples being aggregated with the same key: ----')\n",
    "## Find Find Max / Min Tuples being aggregated with the same key:\n",
    "## -- 1.) Aggregated Same key of tuple (by sum of key's values with the same key)\n",
    "## -- 2.) Find the Max/Min of the aggregated tuples.\n",
    "aggregated_min=inputRDD.reduceByKey(lambda a,b: a+b).reduce( lambda a,b: a if a[1] < b[1] else b)\n",
    "print(aggregated_min)\n",
    "aggregated_max=inputRDD.reduceByKey(lambda a,b: a+b).reduce( lambda a,b: b if a[1] < b[1] else a)\n",
    "print(aggregated_max)\n",
    "\n",
    "print('\\n---- 4.) Find the Max / Min Tuple (no aggregation for the same key: ----')\n",
    "## Find the Max / Min Tuple (no aggregation for the same key):\n",
    "the_min=inputRDD.reduce( lambda a,b: a if a[1] < b[1] else b)\n",
    "print(the_min)\n",
    "the_max=inputRDD.reduce( lambda a,b: b if a[1] < b[1] else a)\n",
    "print(the_max)\n",
    "\n",
    "print('\\n---- 5.) Find the max / min value of all tuples: ----')\n",
    "## Find the max / min value of all tuples:\n",
    "min_value=inputRDD.values().reduce( lambda a,b: a if a < b else b)\n",
    "print(min_value)\n",
    "max_value=inputRDD.values().reduce( lambda a,b: b if a < b else a)\n",
    "print(max_value)\n"
   ]
  },
  {
   "cell_type": "code",
   "execution_count": 14,
   "metadata": {},
   "outputs": [],
   "source": [
    "sc.stop()"
   ]
  }
 ],
 "metadata": {
  "kernelspec": {
   "display_name": "Python 3",
   "language": "python",
   "name": "python3"
  },
  "language_info": {
   "codemirror_mode": {
    "name": "ipython",
    "version": 3
   },
   "file_extension": ".py",
   "mimetype": "text/x-python",
   "name": "python",
   "nbconvert_exporter": "python",
   "pygments_lexer": "ipython3",
   "version": "3.6.9"
  }
 },
 "nbformat": 4,
 "nbformat_minor": 4
}
