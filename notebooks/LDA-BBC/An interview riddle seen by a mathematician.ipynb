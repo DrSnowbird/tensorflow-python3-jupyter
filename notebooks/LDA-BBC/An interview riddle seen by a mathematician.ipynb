{
 "cells": [
  {
   "cell_type": "markdown",
   "metadata": {},
   "source": [
    "# Imports"
   ]
  },
  {
   "cell_type": "code",
   "execution_count": 179,
   "metadata": {
    "collapsed": true
   },
   "outputs": [],
   "source": [
    "# For plotting\n",
    "%matplotlib inline\n",
    "import matplotlib\n",
    "matplotlib.rcParams['figure.figsize'] = (12, 6)\n",
    "\n",
    "# For simulations\n",
    "import random\n",
    "random.seed(42)\n",
    "\n",
    "# For data handling\n",
    "import numpy as np\n",
    "import pandas as pd\n",
    "\n",
    "# For flattening lists through itertools.from_iterable.chain()\n",
    "import itertools"
   ]
  },
  {
   "cell_type": "markdown",
   "metadata": {},
   "source": [
    "# Solve the riddle"
   ]
  },
  {
   "cell_type": "markdown",
   "metadata": {},
   "source": [
    "##### To know which trader presses which bulb, we need to know the number of divisors of each number between 1 and 100"
   ]
  },
  {
   "cell_type": "code",
   "execution_count": 26,
   "metadata": {
    "collapsed": true
   },
   "outputs": [],
   "source": [
    "# From https://stackoverflow.com/questions/171765/what-is-the-best-way-to-get-all-the-divisors-of-a-number\n",
    "# 3rd answer\n",
    "\n",
    "def divisors(n):\n",
    "    # get factors and their counts\n",
    "    factors = {}\n",
    "    nn = n\n",
    "    i = 2\n",
    "    while i*i <= nn:\n",
    "        while nn % i == 0:\n",
    "            if not i in factors:\n",
    "                factors[i] = 0\n",
    "            factors[i] += 1\n",
    "            nn //= i\n",
    "        i += 1\n",
    "    if nn > 1:\n",
    "        factors[nn] = 1\n",
    "\n",
    "    primes = list(factors.keys())\n",
    "\n",
    "    # generates factors from primes[k:] subset\n",
    "    def generate(k):\n",
    "        if k == len(primes):\n",
    "            yield 1\n",
    "        else:\n",
    "            rest = generate(k+1)\n",
    "            prime = primes[k]\n",
    "            for factor in rest:\n",
    "                prime_to_i = 1\n",
    "                # prime_to_i iterates prime**i values, i being all possible exponents\n",
    "                for _ in range(factors[prime] + 1):\n",
    "                    yield factor * prime_to_i\n",
    "                    prime_to_i *= prime\n",
    "\n",
    "    # in python3, `yield from generate(0)` would also work\n",
    "    for factor in generate(0):\n",
    "        yield factor"
   ]
  },
  {
   "cell_type": "code",
   "execution_count": 32,
   "metadata": {
    "collapsed": false
   },
   "outputs": [],
   "source": [
    "bulbs_switched_by_traders = {bulb: list(divisors(bulb)) for bulb in range(1,101)}"
   ]
  },
  {
   "cell_type": "code",
   "execution_count": 38,
   "metadata": {
    "collapsed": false,
    "scrolled": true
   },
   "outputs": [
    {
     "data": {
      "text/plain": [
       "[1, 2, 4]"
      ]
     },
     "execution_count": 38,
     "metadata": {},
     "output_type": "execute_result"
    }
   ],
   "source": [
    "# Which traders press the switch of light bulb number 4. Note that the number of traders is odd: the bulb is turned on.\n",
    "bulbs_switched_by_traders[4]"
   ]
  },
  {
   "cell_type": "code",
   "execution_count": 41,
   "metadata": {
    "collapsed": false
   },
   "outputs": [
    {
     "data": {
      "text/plain": [
       "[1, 5, 17, 85]"
      ]
     },
     "execution_count": 41,
     "metadata": {},
     "output_type": "execute_result"
    }
   ],
   "source": [
    "# Which traders press the switch of light bulb number 85. The number of traders is even. The bulb is turned off.\n",
    "bulbs_switched_by_traders[85]"
   ]
  },
  {
   "cell_type": "code",
   "execution_count": 79,
   "metadata": {
    "collapsed": false,
    "scrolled": true
   },
   "outputs": [
    {
     "data": {
      "text/plain": [
       "{1: True,\n",
       " 2: False,\n",
       " 3: False,\n",
       " 4: True,\n",
       " 5: False,\n",
       " 6: False,\n",
       " 7: False,\n",
       " 8: False,\n",
       " 9: True,\n",
       " 10: False,\n",
       " 11: False,\n",
       " 12: False,\n",
       " 13: False,\n",
       " 14: False,\n",
       " 15: False,\n",
       " 16: True,\n",
       " 17: False,\n",
       " 18: False,\n",
       " 19: False,\n",
       " 20: False,\n",
       " 21: False,\n",
       " 22: False,\n",
       " 23: False,\n",
       " 24: False,\n",
       " 25: True,\n",
       " 26: False,\n",
       " 27: False,\n",
       " 28: False,\n",
       " 29: False,\n",
       " 30: False,\n",
       " 31: False,\n",
       " 32: False,\n",
       " 33: False,\n",
       " 34: False,\n",
       " 35: False,\n",
       " 36: True,\n",
       " 37: False,\n",
       " 38: False,\n",
       " 39: False,\n",
       " 40: False,\n",
       " 41: False,\n",
       " 42: False,\n",
       " 43: False,\n",
       " 44: False,\n",
       " 45: False,\n",
       " 46: False,\n",
       " 47: False,\n",
       " 48: False,\n",
       " 49: True,\n",
       " 50: False,\n",
       " 51: False,\n",
       " 52: False,\n",
       " 53: False,\n",
       " 54: False,\n",
       " 55: False,\n",
       " 56: False,\n",
       " 57: False,\n",
       " 58: False,\n",
       " 59: False,\n",
       " 60: False,\n",
       " 61: False,\n",
       " 62: False,\n",
       " 63: False,\n",
       " 64: True,\n",
       " 65: False,\n",
       " 66: False,\n",
       " 67: False,\n",
       " 68: False,\n",
       " 69: False,\n",
       " 70: False,\n",
       " 71: False,\n",
       " 72: False,\n",
       " 73: False,\n",
       " 74: False,\n",
       " 75: False,\n",
       " 76: False,\n",
       " 77: False,\n",
       " 78: False,\n",
       " 79: False,\n",
       " 80: False,\n",
       " 81: True,\n",
       " 82: False,\n",
       " 83: False,\n",
       " 84: False,\n",
       " 85: False,\n",
       " 86: False,\n",
       " 87: False,\n",
       " 88: False,\n",
       " 89: False,\n",
       " 90: False,\n",
       " 91: False,\n",
       " 92: False,\n",
       " 93: False,\n",
       " 94: False,\n",
       " 95: False,\n",
       " 96: False,\n",
       " 97: False,\n",
       " 98: False,\n",
       " 99: False,\n",
       " 100: True}"
      ]
     },
     "execution_count": 79,
     "metadata": {},
     "output_type": "execute_result"
    }
   ],
   "source": [
    "# See which bulbs are turned on, which are turned off\n",
    "bulbs_turned_on = {bulb: len(traders) % 2 == 1 for (bulb, traders) in bulbs_switched_by_traders.items()}\n",
    "# x % 2 == 1 tests whether x is odd. It means \"does x % 2 equal 1?\", where % is the modulo operator\n",
    "bulbs_turned_on"
   ]
  },
  {
   "cell_type": "code",
   "execution_count": 89,
   "metadata": {
    "collapsed": false
   },
   "outputs": [
    {
     "data": {
      "text/plain": [
       "10"
      ]
     },
     "execution_count": 89,
     "metadata": {},
     "output_type": "execute_result"
    }
   ],
   "source": [
    "# Finding the actual number of bulbs turned on\n",
    "sum(bulbs_turned_on.values())"
   ]
  },
  {
   "cell_type": "markdown",
   "metadata": {},
   "source": [
    "# Bringing randomness into the game"
   ]
  },
  {
   "cell_type": "markdown",
   "metadata": {},
   "source": [
    "##### Now the probability to switch the light is p, where 0 ≤ p ≤ 1"
   ]
  },
  {
   "cell_type": "code",
   "execution_count": 52,
   "metadata": {
    "collapsed": true
   },
   "outputs": [],
   "source": [
    "# Instead of working on which traders presses which bulb, we count the number of traders by bulb who would press its switch\n",
    "count_traders_by_bulb = {bulb: len(traders) for (bulb, traders) in bulbs_switched_by_traders.items()}"
   ]
  },
  {
   "cell_type": "code",
   "execution_count": 53,
   "metadata": {
    "collapsed": false
   },
   "outputs": [
    {
     "data": {
      "text/plain": [
       "3"
      ]
     },
     "execution_count": 53,
     "metadata": {},
     "output_type": "execute_result"
    }
   ],
   "source": [
    "# How many traders press the switch of light bulb number 4 with probability p\n",
    "count_traders_by_bulb[4]"
   ]
  },
  {
   "cell_type": "code",
   "execution_count": 54,
   "metadata": {
    "collapsed": false
   },
   "outputs": [
    {
     "data": {
      "text/plain": [
       "4"
      ]
     },
     "execution_count": 54,
     "metadata": {},
     "output_type": "execute_result"
    }
   ],
   "source": [
    "# How many traders press the switch of light bulb number 85 with probability p\n",
    "count_traders_by_bulb[85]"
   ]
  },
  {
   "cell_type": "markdown",
   "metadata": {},
   "source": [
    "### Execute simulations with several values of p"
   ]
  },
  {
   "cell_type": "markdown",
   "metadata": {},
   "source": [
    "##### The number of traders pressing the switch of a bulb follows a Binomial probability law, since pressing the switch follows a Bernoulli law"
   ]
  },
  {
   "cell_type": "code",
   "execution_count": 58,
   "metadata": {
    "collapsed": false
   },
   "outputs": [],
   "source": [
    "def simulate_riddle(p):\n",
    "    return {bulb: sum(np.random.binomial(count_traders, p, 1)) % 2 == 1 \n",
    "            for (bulb, count_traders) in count_traders_by_bulb.items()}"
   ]
  },
  {
   "cell_type": "code",
   "execution_count": 121,
   "metadata": {
    "collapsed": false,
    "scrolled": true
   },
   "outputs": [
    {
     "name": "stdout",
     "output_type": "stream",
     "text": [
      "Number of bulbs turned on: 10\n"
     ]
    },
    {
     "data": {
      "text/plain": [
       "{1: True,\n",
       " 2: False,\n",
       " 3: False,\n",
       " 4: True,\n",
       " 5: False,\n",
       " 6: False,\n",
       " 7: False,\n",
       " 8: False,\n",
       " 9: True,\n",
       " 10: False,\n",
       " 11: False,\n",
       " 12: False,\n",
       " 13: False,\n",
       " 14: False,\n",
       " 15: False,\n",
       " 16: True,\n",
       " 17: False,\n",
       " 18: False,\n",
       " 19: False,\n",
       " 20: False,\n",
       " 21: False,\n",
       " 22: False,\n",
       " 23: False,\n",
       " 24: False,\n",
       " 25: True,\n",
       " 26: False,\n",
       " 27: False,\n",
       " 28: False,\n",
       " 29: False,\n",
       " 30: False,\n",
       " 31: False,\n",
       " 32: False,\n",
       " 33: False,\n",
       " 34: False,\n",
       " 35: False,\n",
       " 36: True,\n",
       " 37: False,\n",
       " 38: False,\n",
       " 39: False,\n",
       " 40: False,\n",
       " 41: False,\n",
       " 42: False,\n",
       " 43: False,\n",
       " 44: False,\n",
       " 45: False,\n",
       " 46: False,\n",
       " 47: False,\n",
       " 48: False,\n",
       " 49: True,\n",
       " 50: False,\n",
       " 51: False,\n",
       " 52: False,\n",
       " 53: False,\n",
       " 54: False,\n",
       " 55: False,\n",
       " 56: False,\n",
       " 57: False,\n",
       " 58: False,\n",
       " 59: False,\n",
       " 60: False,\n",
       " 61: False,\n",
       " 62: False,\n",
       " 63: False,\n",
       " 64: True,\n",
       " 65: False,\n",
       " 66: False,\n",
       " 67: False,\n",
       " 68: False,\n",
       " 69: False,\n",
       " 70: False,\n",
       " 71: False,\n",
       " 72: False,\n",
       " 73: False,\n",
       " 74: False,\n",
       " 75: False,\n",
       " 76: False,\n",
       " 77: False,\n",
       " 78: False,\n",
       " 79: False,\n",
       " 80: False,\n",
       " 81: True,\n",
       " 82: False,\n",
       " 83: False,\n",
       " 84: False,\n",
       " 85: False,\n",
       " 86: False,\n",
       " 87: False,\n",
       " 88: False,\n",
       " 89: False,\n",
       " 90: False,\n",
       " 91: False,\n",
       " 92: False,\n",
       " 93: False,\n",
       " 94: False,\n",
       " 95: False,\n",
       " 96: False,\n",
       " 97: False,\n",
       " 98: False,\n",
       " 99: False,\n",
       " 100: True}"
      ]
     },
     "execution_count": 121,
     "metadata": {},
     "output_type": "execute_result"
    }
   ],
   "source": [
    "# Check that we find the same results than before when p = 1.\n",
    "simulation = simulate_riddle(1)\n",
    "print(\"Number of bulbs turned on: \"+ str(sum(simulation.values())))\n",
    "simulation"
   ]
  },
  {
   "cell_type": "code",
   "execution_count": 120,
   "metadata": {
    "collapsed": false,
    "scrolled": true
   },
   "outputs": [
    {
     "name": "stdout",
     "output_type": "stream",
     "text": [
      "Number of bulbs turned on: 0\n"
     ]
    },
    {
     "data": {
      "text/plain": [
       "{1: False,\n",
       " 2: False,\n",
       " 3: False,\n",
       " 4: False,\n",
       " 5: False,\n",
       " 6: False,\n",
       " 7: False,\n",
       " 8: False,\n",
       " 9: False,\n",
       " 10: False,\n",
       " 11: False,\n",
       " 12: False,\n",
       " 13: False,\n",
       " 14: False,\n",
       " 15: False,\n",
       " 16: False,\n",
       " 17: False,\n",
       " 18: False,\n",
       " 19: False,\n",
       " 20: False,\n",
       " 21: False,\n",
       " 22: False,\n",
       " 23: False,\n",
       " 24: False,\n",
       " 25: False,\n",
       " 26: False,\n",
       " 27: False,\n",
       " 28: False,\n",
       " 29: False,\n",
       " 30: False,\n",
       " 31: False,\n",
       " 32: False,\n",
       " 33: False,\n",
       " 34: False,\n",
       " 35: False,\n",
       " 36: False,\n",
       " 37: False,\n",
       " 38: False,\n",
       " 39: False,\n",
       " 40: False,\n",
       " 41: False,\n",
       " 42: False,\n",
       " 43: False,\n",
       " 44: False,\n",
       " 45: False,\n",
       " 46: False,\n",
       " 47: False,\n",
       " 48: False,\n",
       " 49: False,\n",
       " 50: False,\n",
       " 51: False,\n",
       " 52: False,\n",
       " 53: False,\n",
       " 54: False,\n",
       " 55: False,\n",
       " 56: False,\n",
       " 57: False,\n",
       " 58: False,\n",
       " 59: False,\n",
       " 60: False,\n",
       " 61: False,\n",
       " 62: False,\n",
       " 63: False,\n",
       " 64: False,\n",
       " 65: False,\n",
       " 66: False,\n",
       " 67: False,\n",
       " 68: False,\n",
       " 69: False,\n",
       " 70: False,\n",
       " 71: False,\n",
       " 72: False,\n",
       " 73: False,\n",
       " 74: False,\n",
       " 75: False,\n",
       " 76: False,\n",
       " 77: False,\n",
       " 78: False,\n",
       " 79: False,\n",
       " 80: False,\n",
       " 81: False,\n",
       " 82: False,\n",
       " 83: False,\n",
       " 84: False,\n",
       " 85: False,\n",
       " 86: False,\n",
       " 87: False,\n",
       " 88: False,\n",
       " 89: False,\n",
       " 90: False,\n",
       " 91: False,\n",
       " 92: False,\n",
       " 93: False,\n",
       " 94: False,\n",
       " 95: False,\n",
       " 96: False,\n",
       " 97: False,\n",
       " 98: False,\n",
       " 99: False,\n",
       " 100: False}"
      ]
     },
     "execution_count": 120,
     "metadata": {},
     "output_type": "execute_result"
    }
   ],
   "source": [
    "# Check with p = 0 that all bulbs are turned OFF of course\n",
    "simulation = simulate_riddle(0)\n",
    "print(\"Number of bulbs turned on: \"+ str(sum(simulation.values())))\n",
    "simulation"
   ]
  },
  {
   "cell_type": "code",
   "execution_count": 119,
   "metadata": {
    "collapsed": false,
    "scrolled": true
   },
   "outputs": [
    {
     "name": "stdout",
     "output_type": "stream",
     "text": [
      "Number of bulbs turned on: 46\n"
     ]
    },
    {
     "data": {
      "text/plain": [
       "{1: True,\n",
       " 2: True,\n",
       " 3: False,\n",
       " 4: True,\n",
       " 5: True,\n",
       " 6: False,\n",
       " 7: False,\n",
       " 8: False,\n",
       " 9: True,\n",
       " 10: True,\n",
       " 11: True,\n",
       " 12: False,\n",
       " 13: True,\n",
       " 14: False,\n",
       " 15: True,\n",
       " 16: True,\n",
       " 17: False,\n",
       " 18: False,\n",
       " 19: False,\n",
       " 20: False,\n",
       " 21: False,\n",
       " 22: False,\n",
       " 23: True,\n",
       " 24: False,\n",
       " 25: False,\n",
       " 26: True,\n",
       " 27: False,\n",
       " 28: True,\n",
       " 29: True,\n",
       " 30: True,\n",
       " 31: True,\n",
       " 32: False,\n",
       " 33: False,\n",
       " 34: True,\n",
       " 35: False,\n",
       " 36: True,\n",
       " 37: False,\n",
       " 38: True,\n",
       " 39: True,\n",
       " 40: False,\n",
       " 41: False,\n",
       " 42: True,\n",
       " 43: False,\n",
       " 44: False,\n",
       " 45: True,\n",
       " 46: True,\n",
       " 47: True,\n",
       " 48: False,\n",
       " 49: False,\n",
       " 50: False,\n",
       " 51: False,\n",
       " 52: False,\n",
       " 53: True,\n",
       " 54: True,\n",
       " 55: False,\n",
       " 56: False,\n",
       " 57: True,\n",
       " 58: True,\n",
       " 59: False,\n",
       " 60: False,\n",
       " 61: True,\n",
       " 62: True,\n",
       " 63: False,\n",
       " 64: False,\n",
       " 65: False,\n",
       " 66: False,\n",
       " 67: True,\n",
       " 68: True,\n",
       " 69: True,\n",
       " 70: True,\n",
       " 71: False,\n",
       " 72: True,\n",
       " 73: True,\n",
       " 74: False,\n",
       " 75: True,\n",
       " 76: True,\n",
       " 77: True,\n",
       " 78: False,\n",
       " 79: False,\n",
       " 80: True,\n",
       " 81: True,\n",
       " 82: False,\n",
       " 83: False,\n",
       " 84: False,\n",
       " 85: False,\n",
       " 86: False,\n",
       " 87: True,\n",
       " 88: True,\n",
       " 89: False,\n",
       " 90: False,\n",
       " 91: False,\n",
       " 92: False,\n",
       " 93: True,\n",
       " 94: False,\n",
       " 95: False,\n",
       " 96: False,\n",
       " 97: True,\n",
       " 98: True,\n",
       " 99: False,\n",
       " 100: False}"
      ]
     },
     "execution_count": 119,
     "metadata": {},
     "output_type": "execute_result"
    }
   ],
   "source": [
    "# Test with p = 0.5, or whatever you want. For easier use of Jupyter notebook, use Ctrl + Enter to run several simulations\n",
    "simulation = simulate_riddle(0.5)\n",
    "print(\"Number of bulbs turned on: \"+ str(sum(simulation.values())))\n",
    "simulation"
   ]
  },
  {
   "cell_type": "code",
   "execution_count": 133,
   "metadata": {
    "collapsed": true
   },
   "outputs": [],
   "source": [
    "def distribution(p, n_simulations=500):\n",
    "    return pd.DataFrame([sum(simulate_riddle(p).values()) for i in range(n_simulations)])"
   ]
  },
  {
   "cell_type": "code",
   "execution_count": 181,
   "metadata": {
    "collapsed": false
   },
   "outputs": [
    {
     "data": {
      "text/plain": [
       "array([[<matplotlib.axes._subplots.AxesSubplot object at 0x000000001420A400>]], dtype=object)"
      ]
     },
     "execution_count": 181,
     "metadata": {},
     "output_type": "execute_result"
    },
    {
     "data": {
      "image/png": "[encoded data removed]",
      "text/plain": [
       "<matplotlib.figure.Figure at 0x14284048>"
      ]
     },
     "metadata": {},
     "output_type": "display_data"
    }
   ],
   "source": [
    "# Get the distribution of the number of turned on light bulbs with p = 0.5\n",
    "distribution(0.5, 1000).hist(bins=100)"
   ]
  },
  {
   "cell_type": "code",
   "execution_count": 231,
   "metadata": {
    "collapsed": false,
    "scrolled": true
   },
   "outputs": [],
   "source": [
    "# Get the distribution with p varying from 0 to 1 incrementally. It should take less than 20 seconds\n",
    "distribution_3D = [distribution(p, n_simulations=200) for p in [x/100 for x in range(101)]]\n",
    "df_distribution_3D = pd.concat(distribution_3D, axis=1).T.reset_index(drop=True)"
   ]
  },
  {
   "cell_type": "code",
   "execution_count": 174,
   "metadata": {
    "collapsed": false,
    "scrolled": true
   },
   "outputs": [],
   "source": [
    "# Empirically, look at how the number of turned on light bulbs evolve from \n",
    "# The synthax below uses \"chaining\" which is made possible in pandas library\n",
    "df_number_of_turned_on_bulbs = df_distribution_3D.mean(axis=1).reset_index() \\\n",
    "    .rename(columns={0: 'Average number of turned on light bulbs', 'index': 'p'}) \\\n",
    "    .assign(p = [x/100 for x in range(101)])"
   ]
  },
  {
   "cell_type": "code",
   "execution_count": 175,
   "metadata": {
    "collapsed": false,
    "scrolled": true
   },
   "outputs": [
    {
     "data": {
      "text/html": [
       "<div>\n",
       "<table border=\"1\" class=\"dataframe\">\n",
       "  <thead>\n",
       "    <tr style=\"text-align: right;\">\n",
       "      <th></th>\n",
       "      <th>p</th>\n",
       "      <th>Average number of turned on light bulbs</th>\n",
       "    </tr>\n",
       "  </thead>\n",
       "  <tbody>\n",
       "    <tr>\n",
       "      <th>0</th>\n",
       "      <td>0.00</td>\n",
       "      <td>0.000</td>\n",
       "    </tr>\n",
       "    <tr>\n",
       "      <th>1</th>\n",
       "      <td>0.01</td>\n",
       "      <td>4.675</td>\n",
       "    </tr>\n",
       "    <tr>\n",
       "      <th>2</th>\n",
       "      <td>0.02</td>\n",
       "      <td>8.795</td>\n",
       "    </tr>\n",
       "    <tr>\n",
       "      <th>3</th>\n",
       "      <td>0.03</td>\n",
       "      <td>12.020</td>\n",
       "    </tr>\n",
       "    <tr>\n",
       "      <th>4</th>\n",
       "      <td>0.04</td>\n",
       "      <td>15.790</td>\n",
       "    </tr>\n",
       "    <tr>\n",
       "      <th>5</th>\n",
       "      <td>0.05</td>\n",
       "      <td>18.435</td>\n",
       "    </tr>\n",
       "    <tr>\n",
       "      <th>6</th>\n",
       "      <td>0.06</td>\n",
       "      <td>21.425</td>\n",
       "    </tr>\n",
       "    <tr>\n",
       "      <th>7</th>\n",
       "      <td>0.07</td>\n",
       "      <td>23.545</td>\n",
       "    </tr>\n",
       "    <tr>\n",
       "      <th>8</th>\n",
       "      <td>0.08</td>\n",
       "      <td>26.110</td>\n",
       "    </tr>\n",
       "    <tr>\n",
       "      <th>9</th>\n",
       "      <td>0.09</td>\n",
       "      <td>28.015</td>\n",
       "    </tr>\n",
       "    <tr>\n",
       "      <th>10</th>\n",
       "      <td>0.10</td>\n",
       "      <td>30.565</td>\n",
       "    </tr>\n",
       "    <tr>\n",
       "      <th>11</th>\n",
       "      <td>0.11</td>\n",
       "      <td>32.095</td>\n",
       "    </tr>\n",
       "    <tr>\n",
       "      <th>12</th>\n",
       "      <td>0.12</td>\n",
       "      <td>33.650</td>\n",
       "    </tr>\n",
       "    <tr>\n",
       "      <th>13</th>\n",
       "      <td>0.13</td>\n",
       "      <td>34.845</td>\n",
       "    </tr>\n",
       "    <tr>\n",
       "      <th>14</th>\n",
       "      <td>0.14</td>\n",
       "      <td>36.285</td>\n",
       "    </tr>\n",
       "    <tr>\n",
       "      <th>15</th>\n",
       "      <td>0.15</td>\n",
       "      <td>37.105</td>\n",
       "    </tr>\n",
       "    <tr>\n",
       "      <th>16</th>\n",
       "      <td>0.16</td>\n",
       "      <td>38.175</td>\n",
       "    </tr>\n",
       "    <tr>\n",
       "      <th>17</th>\n",
       "      <td>0.17</td>\n",
       "      <td>39.390</td>\n",
       "    </tr>\n",
       "    <tr>\n",
       "      <th>18</th>\n",
       "      <td>0.18</td>\n",
       "      <td>40.105</td>\n",
       "    </tr>\n",
       "    <tr>\n",
       "      <th>19</th>\n",
       "      <td>0.19</td>\n",
       "      <td>40.910</td>\n",
       "    </tr>\n",
       "    <tr>\n",
       "      <th>20</th>\n",
       "      <td>0.20</td>\n",
       "      <td>41.620</td>\n",
       "    </tr>\n",
       "    <tr>\n",
       "      <th>21</th>\n",
       "      <td>0.21</td>\n",
       "      <td>43.180</td>\n",
       "    </tr>\n",
       "    <tr>\n",
       "      <th>22</th>\n",
       "      <td>0.22</td>\n",
       "      <td>43.470</td>\n",
       "    </tr>\n",
       "    <tr>\n",
       "      <th>23</th>\n",
       "      <td>0.23</td>\n",
       "      <td>43.975</td>\n",
       "    </tr>\n",
       "    <tr>\n",
       "      <th>24</th>\n",
       "      <td>0.24</td>\n",
       "      <td>45.375</td>\n",
       "    </tr>\n",
       "    <tr>\n",
       "      <th>25</th>\n",
       "      <td>0.25</td>\n",
       "      <td>45.570</td>\n",
       "    </tr>\n",
       "    <tr>\n",
       "      <th>26</th>\n",
       "      <td>0.26</td>\n",
       "      <td>45.655</td>\n",
       "    </tr>\n",
       "    <tr>\n",
       "      <th>27</th>\n",
       "      <td>0.27</td>\n",
       "      <td>46.155</td>\n",
       "    </tr>\n",
       "    <tr>\n",
       "      <th>28</th>\n",
       "      <td>0.28</td>\n",
       "      <td>46.540</td>\n",
       "    </tr>\n",
       "    <tr>\n",
       "      <th>29</th>\n",
       "      <td>0.29</td>\n",
       "      <td>46.525</td>\n",
       "    </tr>\n",
       "    <tr>\n",
       "      <th>...</th>\n",
       "      <td>...</td>\n",
       "      <td>...</td>\n",
       "    </tr>\n",
       "    <tr>\n",
       "      <th>71</th>\n",
       "      <td>0.71</td>\n",
       "      <td>47.110</td>\n",
       "    </tr>\n",
       "    <tr>\n",
       "      <th>72</th>\n",
       "      <td>0.72</td>\n",
       "      <td>47.805</td>\n",
       "    </tr>\n",
       "    <tr>\n",
       "      <th>73</th>\n",
       "      <td>0.73</td>\n",
       "      <td>47.300</td>\n",
       "    </tr>\n",
       "    <tr>\n",
       "      <th>74</th>\n",
       "      <td>0.74</td>\n",
       "      <td>46.815</td>\n",
       "    </tr>\n",
       "    <tr>\n",
       "      <th>75</th>\n",
       "      <td>0.75</td>\n",
       "      <td>45.910</td>\n",
       "    </tr>\n",
       "    <tr>\n",
       "      <th>76</th>\n",
       "      <td>0.76</td>\n",
       "      <td>45.400</td>\n",
       "    </tr>\n",
       "    <tr>\n",
       "      <th>77</th>\n",
       "      <td>0.77</td>\n",
       "      <td>45.550</td>\n",
       "    </tr>\n",
       "    <tr>\n",
       "      <th>78</th>\n",
       "      <td>0.78</td>\n",
       "      <td>44.865</td>\n",
       "    </tr>\n",
       "    <tr>\n",
       "      <th>79</th>\n",
       "      <td>0.79</td>\n",
       "      <td>43.690</td>\n",
       "    </tr>\n",
       "    <tr>\n",
       "      <th>80</th>\n",
       "      <td>0.80</td>\n",
       "      <td>43.550</td>\n",
       "    </tr>\n",
       "    <tr>\n",
       "      <th>81</th>\n",
       "      <td>0.81</td>\n",
       "      <td>43.800</td>\n",
       "    </tr>\n",
       "    <tr>\n",
       "      <th>82</th>\n",
       "      <td>0.82</td>\n",
       "      <td>42.100</td>\n",
       "    </tr>\n",
       "    <tr>\n",
       "      <th>83</th>\n",
       "      <td>0.83</td>\n",
       "      <td>41.940</td>\n",
       "    </tr>\n",
       "    <tr>\n",
       "      <th>84</th>\n",
       "      <td>0.84</td>\n",
       "      <td>41.100</td>\n",
       "    </tr>\n",
       "    <tr>\n",
       "      <th>85</th>\n",
       "      <td>0.85</td>\n",
       "      <td>40.290</td>\n",
       "    </tr>\n",
       "    <tr>\n",
       "      <th>86</th>\n",
       "      <td>0.86</td>\n",
       "      <td>39.275</td>\n",
       "    </tr>\n",
       "    <tr>\n",
       "      <th>87</th>\n",
       "      <td>0.87</td>\n",
       "      <td>37.805</td>\n",
       "    </tr>\n",
       "    <tr>\n",
       "      <th>88</th>\n",
       "      <td>0.88</td>\n",
       "      <td>36.980</td>\n",
       "    </tr>\n",
       "    <tr>\n",
       "      <th>89</th>\n",
       "      <td>0.89</td>\n",
       "      <td>35.460</td>\n",
       "    </tr>\n",
       "    <tr>\n",
       "      <th>90</th>\n",
       "      <td>0.90</td>\n",
       "      <td>33.760</td>\n",
       "    </tr>\n",
       "    <tr>\n",
       "      <th>91</th>\n",
       "      <td>0.91</td>\n",
       "      <td>33.115</td>\n",
       "    </tr>\n",
       "    <tr>\n",
       "      <th>92</th>\n",
       "      <td>0.92</td>\n",
       "      <td>31.290</td>\n",
       "    </tr>\n",
       "    <tr>\n",
       "      <th>93</th>\n",
       "      <td>0.93</td>\n",
       "      <td>29.090</td>\n",
       "    </tr>\n",
       "    <tr>\n",
       "      <th>94</th>\n",
       "      <td>0.94</td>\n",
       "      <td>27.005</td>\n",
       "    </tr>\n",
       "    <tr>\n",
       "      <th>95</th>\n",
       "      <td>0.95</td>\n",
       "      <td>25.220</td>\n",
       "    </tr>\n",
       "    <tr>\n",
       "      <th>96</th>\n",
       "      <td>0.96</td>\n",
       "      <td>22.315</td>\n",
       "    </tr>\n",
       "    <tr>\n",
       "      <th>97</th>\n",
       "      <td>0.97</td>\n",
       "      <td>20.145</td>\n",
       "    </tr>\n",
       "    <tr>\n",
       "      <th>98</th>\n",
       "      <td>0.98</td>\n",
       "      <td>17.110</td>\n",
       "    </tr>\n",
       "    <tr>\n",
       "      <th>99</th>\n",
       "      <td>0.99</td>\n",
       "      <td>13.510</td>\n",
       "    </tr>\n",
       "    <tr>\n",
       "      <th>100</th>\n",
       "      <td>1.00</td>\n",
       "      <td>10.000</td>\n",
       "    </tr>\n",
       "  </tbody>\n",
       "</table>\n",
       "<p>101 rows × 2 columns</p>\n",
       "</div>"
      ],
      "text/plain": [
       "        p  Average number of turned on light bulbs\n",
       "0    0.00                                    0.000\n",
       "1    0.01                                    4.675\n",
       "2    0.02                                    8.795\n",
       "3    0.03                                   12.020\n",
       "4    0.04                                   15.790\n",
       "5    0.05                                   18.435\n",
       "6    0.06                                   21.425\n",
       "7    0.07                                   23.545\n",
       "8    0.08                                   26.110\n",
       "9    0.09                                   28.015\n",
       "10   0.10                                   30.565\n",
       "11   0.11                                   32.095\n",
       "12   0.12                                   33.650\n",
       "13   0.13                                   34.845\n",
       "14   0.14                                   36.285\n",
       "15   0.15                                   37.105\n",
       "16   0.16                                   38.175\n",
       "17   0.17                                   39.390\n",
       "18   0.18                                   40.105\n",
       "19   0.19                                   40.910\n",
       "20   0.20                                   41.620\n",
       "21   0.21                                   43.180\n",
       "22   0.22                                   43.470\n",
       "23   0.23                                   43.975\n",
       "24   0.24                                   45.375\n",
       "25   0.25                                   45.570\n",
       "26   0.26                                   45.655\n",
       "27   0.27                                   46.155\n",
       "28   0.28                                   46.540\n",
       "29   0.29                                   46.525\n",
       "..    ...                                      ...\n",
       "71   0.71                                   47.110\n",
       "72   0.72                                   47.805\n",
       "73   0.73                                   47.300\n",
       "74   0.74                                   46.815\n",
       "75   0.75                                   45.910\n",
       "76   0.76                                   45.400\n",
       "77   0.77                                   45.550\n",
       "78   0.78                                   44.865\n",
       "79   0.79                                   43.690\n",
       "80   0.80                                   43.550\n",
       "81   0.81                                   43.800\n",
       "82   0.82                                   42.100\n",
       "83   0.83                                   41.940\n",
       "84   0.84                                   41.100\n",
       "85   0.85                                   40.290\n",
       "86   0.86                                   39.275\n",
       "87   0.87                                   37.805\n",
       "88   0.88                                   36.980\n",
       "89   0.89                                   35.460\n",
       "90   0.90                                   33.760\n",
       "91   0.91                                   33.115\n",
       "92   0.92                                   31.290\n",
       "93   0.93                                   29.090\n",
       "94   0.94                                   27.005\n",
       "95   0.95                                   25.220\n",
       "96   0.96                                   22.315\n",
       "97   0.97                                   20.145\n",
       "98   0.98                                   17.110\n",
       "99   0.99                                   13.510\n",
       "100  1.00                                   10.000\n",
       "\n",
       "[101 rows x 2 columns]"
      ]
     },
     "execution_count": 175,
     "metadata": {},
     "output_type": "execute_result"
    }
   ],
   "source": [
    "# Empirically, look at how the number of turned on light bulbs evolve from \n",
    "df_number_of_turned_on_bulbs"
   ]
  },
  {
   "cell_type": "code",
   "execution_count": 182,
   "metadata": {
    "collapsed": false
   },
   "outputs": [
    {
     "data": {
      "text/plain": [
       "<matplotlib.axes._subplots.AxesSubplot at 0x142f2da0>"
      ]
     },
     "execution_count": 182,
     "metadata": {},
     "output_type": "execute_result"
    },
    {
     "data": {
      "image/png": "[encoded data removed]",
      "text/plain": [
       "<matplotlib.figure.Figure at 0x146180f0>"
      ]
     },
     "metadata": {},
     "output_type": "display_data"
    }
   ],
   "source": [
    "# Let's plot the result\n",
    "df_number_of_turned_on_bulbs.plot(x='p', y='Average number of turned on light bulbs')"
   ]
  },
  {
   "cell_type": "markdown",
   "metadata": {},
   "source": [
    "# Get the results mathematically"
   ]
  },
  {
   "cell_type": "code",
   "execution_count": 192,
   "metadata": {
    "collapsed": false
   },
   "outputs": [],
   "source": [
    "# If n traders should press the switch a light bulb, the probability that an even number of them press the switch is:\n",
    "# 0.5 * [1 + (1 - 2p)^n]\n",
    "def probability_odd_number_traders(n, p):\n",
    "    return 1 - 0.5 * (1 + (1 - 2*p)**n)"
   ]
  },
  {
   "cell_type": "code",
   "execution_count": 219,
   "metadata": {
    "collapsed": false,
    "scrolled": true
   },
   "outputs": [],
   "source": [
    "def probabilitiy_by_bulb(p):\n",
    "    return {bulb: probability_odd_number_traders(count_traders, p) \n",
    "            for (bulb, count_traders) in count_traders_by_bulb.items()}"
   ]
  },
  {
   "cell_type": "code",
   "execution_count": 224,
   "metadata": {
    "collapsed": false,
    "scrolled": true
   },
   "outputs": [
    {
     "data": {
      "text/plain": [
       "{1: 0.5,\n",
       " 2: 0.5,\n",
       " 3: 0.5,\n",
       " 4: 0.5,\n",
       " 5: 0.5,\n",
       " 6: 0.5,\n",
       " 7: 0.5,\n",
       " 8: 0.5,\n",
       " 9: 0.5,\n",
       " 10: 0.5,\n",
       " 11: 0.5,\n",
       " 12: 0.5,\n",
       " 13: 0.5,\n",
       " 14: 0.5,\n",
       " 15: 0.5,\n",
       " 16: 0.5,\n",
       " 17: 0.5,\n",
       " 18: 0.5,\n",
       " 19: 0.5,\n",
       " 20: 0.5,\n",
       " 21: 0.5,\n",
       " 22: 0.5,\n",
       " 23: 0.5,\n",
       " 24: 0.5,\n",
       " 25: 0.5,\n",
       " 26: 0.5,\n",
       " 27: 0.5,\n",
       " 28: 0.5,\n",
       " 29: 0.5,\n",
       " 30: 0.5,\n",
       " 31: 0.5,\n",
       " 32: 0.5,\n",
       " 33: 0.5,\n",
       " 34: 0.5,\n",
       " 35: 0.5,\n",
       " 36: 0.5,\n",
       " 37: 0.5,\n",
       " 38: 0.5,\n",
       " 39: 0.5,\n",
       " 40: 0.5,\n",
       " 41: 0.5,\n",
       " 42: 0.5,\n",
       " 43: 0.5,\n",
       " 44: 0.5,\n",
       " 45: 0.5,\n",
       " 46: 0.5,\n",
       " 47: 0.5,\n",
       " 48: 0.5,\n",
       " 49: 0.5,\n",
       " 50: 0.5,\n",
       " 51: 0.5,\n",
       " 52: 0.5,\n",
       " 53: 0.5,\n",
       " 54: 0.5,\n",
       " 55: 0.5,\n",
       " 56: 0.5,\n",
       " 57: 0.5,\n",
       " 58: 0.5,\n",
       " 59: 0.5,\n",
       " 60: 0.5,\n",
       " 61: 0.5,\n",
       " 62: 0.5,\n",
       " 63: 0.5,\n",
       " 64: 0.5,\n",
       " 65: 0.5,\n",
       " 66: 0.5,\n",
       " 67: 0.5,\n",
       " 68: 0.5,\n",
       " 69: 0.5,\n",
       " 70: 0.5,\n",
       " 71: 0.5,\n",
       " 72: 0.5,\n",
       " 73: 0.5,\n",
       " 74: 0.5,\n",
       " 75: 0.5,\n",
       " 76: 0.5,\n",
       " 77: 0.5,\n",
       " 78: 0.5,\n",
       " 79: 0.5,\n",
       " 80: 0.5,\n",
       " 81: 0.5,\n",
       " 82: 0.5,\n",
       " 83: 0.5,\n",
       " 84: 0.5,\n",
       " 85: 0.5,\n",
       " 86: 0.5,\n",
       " 87: 0.5,\n",
       " 88: 0.5,\n",
       " 89: 0.5,\n",
       " 90: 0.5,\n",
       " 91: 0.5,\n",
       " 92: 0.5,\n",
       " 93: 0.5,\n",
       " 94: 0.5,\n",
       " 95: 0.5,\n",
       " 96: 0.5,\n",
       " 97: 0.5,\n",
       " 98: 0.5,\n",
       " 99: 0.5,\n",
       " 100: 0.5}"
      ]
     },
     "execution_count": 224,
     "metadata": {},
     "output_type": "execute_result"
    }
   ],
   "source": [
    "# Check the probability for p = 0.5, or whatever p\n",
    "probabilitiy_by_bulb(0.5)"
   ]
  },
  {
   "cell_type": "code",
   "execution_count": 230,
   "metadata": {
    "collapsed": false,
    "scrolled": false
   },
   "outputs": [
    {
     "data": {
      "text/plain": [
       "<matplotlib.lines.Line2D at 0x14cbe9b0>"
      ]
     },
     "execution_count": 230,
     "metadata": {},
     "output_type": "execute_result"
    },
    {
     "data": {
      "image/png": "[encoded data removed]",
      "text/plain": [
       "<matplotlib.figure.Figure at 0x14cbe208>"
      ]
     },
     "metadata": {},
     "output_type": "display_data"
    }
   ],
   "source": [
    "plot = pd.DataFrame({'p': [x/100 for x in range(101)], \n",
    "                     'Average number of turned on light bulbs': [sum(probabilitiy_by_bulb(x/100).values()) for x in range(101)]}) \\\n",
    "    .plot(x='p', y='Average number of turned on light bulbs')\n",
    "plot.axhline(y=50, color='grey')\n",
    "# The maximum number of turned on light bulbs is reached only at p = 0.5!"
   ]
  }
 ],
 "metadata": {
  "kernelspec": {
   "display_name": "Python 3",
   "language": "python",
   "name": "python3"
  },
  "language_info": {
   "codemirror_mode": {
    "name": "ipython",
    "version": 3
   },
   "file_extension": ".py",
   "mimetype": "text/x-python",
   "name": "python",
   "nbconvert_exporter": "python",
   "pygments_lexer": "ipython3",
   "version": "3.6.0"
  }
 },
 "nbformat": 4,
 "nbformat_minor": 2
}
