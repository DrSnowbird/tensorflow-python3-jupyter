{
 "cells": [
  {
   "cell_type": "code",
   "execution_count": 11,
   "metadata": {
    "collapsed": false,
    "deletable": true,
    "editable": true
   },
   "outputs": [
    {
     "name": "stdout",
     "output_type": "stream",
     "text": [
      "user_id,datetime,activity,activityNumber,wikileak,answer,url,psychometric_O,psychometric_C,psychometric_E,psychometric_A,psychometric_N,role,clocktime,clocktime_1,clocktime_2,clocktime_3\n",
      "\n",
      "AAE0190,1261900800,Login,1,0,0,,36,30,14,50,29,Manager,8,-5,-5,-5\n",
      "\n",
      "AAE0190,1261900800,Login,1,0,0,,36,30,14,50,29,Manager,8,-5,-5,-5\n",
      "\n",
      "AAE0190,1261900800,Login,1,0,0,,36,30,14,50,29,Manager,8,-5,-5,-5\n",
      "\n",
      "AAE0190,1261900800,Login,1,0,0,,36,30,14,50,29,Manager,8,-5,-5,-5\n",
      "\n",
      "AAE0190,1261900800,Login,1,0,0,,36,30,14,50,29,Manager,8,-5,-5,-5\n",
      "\n",
      "AAE0190,1261900800,Login,1,0,0,,36,30,14,50,29,Manager,8,-5,-5,-5\n",
      "\n",
      "AAE0190,1261900800,Login,1,0,0,,36,30,14,50,29,Manager,8,-5,-5,-5\n",
      "\n",
      "AAE0190,1261900800,Login,1,0,0,,36,30,14,50,29,Manager,8,-5,-5,-5\n",
      "\n",
      "AAE0190,1261900860,Login,1,0,0,,36,30,14,50,29,Manager,8.01667,-5,-5,-5\n",
      "\n",
      "AAE0190,1261900860,Login,1,0,0,,36,30,14,50,29,Manager,8.01667,-5,-5,-5\n",
      "\n",
      "AAE0190,1261900860,Login,1,0,0,,36,30,14,50,29,Manager,8.01667,-5,-5,-5\n",
      "\n",
      "AAE0190,1261900860,Login,1,0,0,,36,30,14,50,29,Manager,8.01667,-5,-5,-5\n",
      "\n",
      "AAE0190,1261900860,Login,1,0,0,,36,30,14,50,29,Manager,8.01667,-5,-5,-5\n",
      "\n",
      "AAE0190,1261900860,Login,1,0,0,,36,30,14,50,29,Manager,8.01667,-5,-5,-5\n",
      "\n",
      "AAE0190,1261900920,Login,1,0,0,,36,30,14,50,29,Manager,8.03333,-5,-5,-5\n",
      "\n",
      "AAE0190,1261900920,Login,1,0,0,,36,30,14,50,29,Manager,8.03333,-5,-5,-5\n",
      "\n",
      "AAE0190,1261900920,Login,1,0,0,,36,30,14,50,29,Manager,8.03333,-5,-5,-5\n",
      "\n",
      "AAE0190,1261900920,Login,1,0,0,,36,30,14,50,29,Manager,8.03333,-5,-5,-5\n",
      "\n",
      "AAE0190,1261900980,Login,1,0,0,,36,30,14,50,29,Manager,8.05,-5,-5,-5\n",
      "\n",
      "AAE0190,1261900980,Login,1,0,0,,36,30,14,50,29,Manager,8.05,-5,-5,-5\n",
      "\n",
      "AAE0190,1261900980,Login,1,0,0,,36,30,14,50,29,Manager,8.05,-5,-5,-5\n",
      "\n",
      "AAE0190,1261900980,Login,1,0,0,,36,30,14,50,29,Manager,8.05,-5,-5,-5\n",
      "\n",
      "AAE0190,1261900980,Login,1,0,0,,36,30,14,50,29,Manager,8.05,-5,-5,-5\n",
      "\n",
      "AAE0190,1261900980,Login,1,0,0,,36,30,14,50,29,Manager,8.05,-5,-5,-5\n",
      "\n",
      "AAE0190,1261900980,Login,1,0,0,,36,30,14,50,29,Manager,8.05,-5,-5,-5\n",
      "\n",
      "AAE0190,1261900980,Login,1,0,0,,36,30,14,50,29,Manager,8.05,-5,-5,-5\n",
      "\n",
      "AAE0190,1261901040,Login,1,0,0,,36,30,14,50,29,Manager,8.06667,-5,-5,-5\n",
      "\n",
      "AAE0190,1261901040,Login,1,0,0,,36,30,14,50,29,Manager,8.06667,-5,-5,-5\n",
      "\n",
      "AAE0190,1261901040,Login,1,0,0,,36,30,14,50,29,Manager,8.06667,-5,-5,-5\n",
      "\n"
     ]
    }
   ],
   "source": [
    "import csv\n",
    "f = open(\"sample_v6.csv\")\n",
    "for activity in f:\n",
    "   print(activity)"
   ]
  },
  {
   "cell_type": "code",
   "execution_count": 14,
   "metadata": {
    "collapsed": false
   },
   "outputs": [
    {
     "name": "stdout",
     "output_type": "stream",
     "text": [
      "user_id clocktime\n",
      "AAE0190 8\n",
      "AAE0190 8\n",
      "AAE0190 8\n",
      "AAE0190 8\n",
      "AAE0190 8\n",
      "AAE0190 8\n",
      "AAE0190 8\n",
      "AAE0190 8\n",
      "AAE0190 8.01667\n",
      "AAE0190 8.01667\n",
      "AAE0190 8.01667\n",
      "AAE0190 8.01667\n",
      "AAE0190 8.01667\n",
      "AAE0190 8.01667\n",
      "AAE0190 8.03333\n",
      "AAE0190 8.03333\n",
      "AAE0190 8.03333\n",
      "AAE0190 8.03333\n",
      "AAE0190 8.05\n",
      "AAE0190 8.05\n",
      "AAE0190 8.05\n",
      "AAE0190 8.05\n",
      "AAE0190 8.05\n",
      "AAE0190 8.05\n",
      "AAE0190 8.05\n",
      "AAE0190 8.05\n",
      "AAE0190 8.06667\n",
      "AAE0190 8.06667\n",
      "AAE0190 8.06667\n"
     ]
    }
   ],
   "source": [
    "import csv\n",
    "f = open(\"sample_v6.csv\")\n",
    "for row in csv.reader(f):\n",
    "   user_id=row[0]\n",
    "   print(row[0], row[13])"
   ]
  },
  {
   "cell_type": "code",
   "execution_count": null,
   "metadata": {
    "collapsed": true
   },
   "outputs": [],
   "source": []
  }
 ],
 "metadata": {
  "kernelspec": {
   "display_name": "Python 3",
   "language": "python",
   "name": "python3"
  },
  "language_info": {
   "codemirror_mode": {
    "name": "ipython",
    "version": 3
   },
   "file_extension": ".py",
   "mimetype": "text/x-python",
   "name": "python",
   "nbconvert_exporter": "python",
   "pygments_lexer": "ipython3",
   "version": "3.5.3"
  }
 },
 "nbformat": 4,
 "nbformat_minor": 2
}
