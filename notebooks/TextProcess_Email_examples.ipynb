{
 "cells": [
  {
   "cell_type": "code",
   "execution_count": null,
   "metadata": {
    "collapsed": true,
    "deletable": true,
    "editable": true
   },
   "outputs": [],
   "source": [
    "import email\n",
    "msg = email.message_from_string(myString) "
   ]
  },
  {
   "cell_type": "code",
   "execution_count": 4,
   "metadata": {
    "collapsed": false,
    "deletable": true,
    "editable": true
   },
   "outputs": [
    {
     "name": "stdout",
     "output_type": "stream",
     "text": [
      "Hello, World!\n",
      "Enter your name: Ray\n",
      "Your nameRay\n",
      "your name contains a vowel.\n",
      "R\n",
      "a\n",
      "y\n"
     ]
    }
   ],
   "source": [
    "def hello():\n",
    "    print(\"Hello, World!\")\n",
    "\n",
    "def names():\n",
    "    # setup name variable with input\n",
    "    name = str(input('Enter your name: '))\n",
    "    print(\"Your name\" + name)\n",
    "\n",
    "    # check whether name has vowel\n",
    "    if set('aeiou').intersection(name.lower()):\n",
    "        print('your name contains a vowel.')\n",
    "    else:\n",
    "        print('your name does not contain a vowel.')\n",
    "\n",
    "    # iterate over name\n",
    "    for letter in name:\n",
    "        print(letter)\n",
    "\n",
    "hello()\n",
    "\n",
    "names()"
   ]
  },
  {
   "cell_type": "code",
   "execution_count": 4,
   "metadata": {
    "collapsed": false,
    "deletable": true,
    "editable": true
   },
   "outputs": [
    {
     "data": {
      "text/plain": [
       "6.2e-05"
      ]
     },
     "execution_count": 4,
     "metadata": {},
     "output_type": "execute_result"
    }
   ],
   "source": [
    "import datetime\n",
    "start = datetime.datetime.now()\n",
    "end = datetime.datetime.now()\n",
    "(end - start).total_seconds()"
   ]
  },
  {
   "cell_type": "code",
   "execution_count": 27,
   "metadata": {
    "collapsed": false
   },
   "outputs": [
    {
     "name": "stdout",
     "output_type": "stream",
     "text": [
      "1265007926000.0\n",
      "['1265007926000']\n"
     ]
    }
   ],
   "source": [
    "from datetime import datetime\n",
    "import ast\n",
    "p = '%d/%m/%Y %H:%M:%S'\n",
    "mytime = \"01/02/2010 07:05:26\"\n",
    "epoch = datetime(1970, 1, 1)\n",
    "\n",
    "print((datetime.strptime(mytime, p) - epoch).total_seconds()*1000)\n",
    "\n",
    "timeStr=str(int((datetime.strptime(mytime, p) - epoch).total_seconds()*1000))\n",
    "strList = ast.literal_eval('[]')\n",
    "strList.append(timeStr)\n",
    "print(strList[:1])"
   ]
  },
  {
   "cell_type": "code",
   "execution_count": 11,
   "metadata": {
    "collapsed": false
   },
   "outputs": [
    {
     "name": "stdout",
     "output_type": "stream",
     "text": [
      "1423627341.0\n"
     ]
    }
   ],
   "source": [
    "import time\n",
    "from datetime import datetime\n",
    "import pytz # $ pip install pytz\n",
    "from tzlocal import get_localzone # $ pip install tzlocal\n",
    "\n",
    "tt = time.strptime(\"11-feb-15:04:02:21\", \"%d-%b-%y:%H:%M:%S\")\n",
    "naive_dt = datetime(*tt[:5]+(min(tt[5], 59),))\n",
    "dt = get_localzone().localize(naive_dt, is_dst=None)\n",
    "timestamp = (dt - datetime(1970, 1, 1, tzinfo=pytz.utc)).total_seconds()\n",
    "print(timestamp) # -> 1423623741.0"
   ]
  },
  {
   "cell_type": "code",
   "execution_count": 28,
   "metadata": {
    "collapsed": false
   },
   "outputs": [
    {
     "name": "stdout",
     "output_type": "stream",
     "text": [
      "['A', 'B', 'C', ' D', 'E']\n",
      "[]\n"
     ]
    }
   ],
   "source": [
    "import ast\n",
    "strList = ast.literal_eval('[\"A\",\"B\" ,\"C\" ,\" D\"]')\n",
    "strList.append(\"E\")\n",
    "print(strList)\n",
    "print(strList[:0])"
   ]
  },
  {
   "cell_type": "code",
   "execution_count": 30,
   "metadata": {
    "collapsed": false
   },
   "outputs": [
    {
     "name": "stdout",
     "output_type": "stream",
     "text": [
      "[]\n"
     ]
    }
   ],
   "source": [
    "l=[]\n",
    "l.append(\"hello\")\n",
    "print(l[:0])"
   ]
  },
  {
   "cell_type": "code",
   "execution_count": 32,
   "metadata": {
    "collapsed": false
   },
   "outputs": [
    {
     "name": "stdout",
     "output_type": "stream",
     "text": [
      "['one', 'two', 'three']\n"
     ]
    }
   ],
   "source": [
    "import csv\n",
    "for row in csv.reader(['one,two,three']):\n",
    "    print(row)"
   ]
  },
  {
   "cell_type": "code",
   "execution_count": 36,
   "metadata": {
    "collapsed": false
   },
   "outputs": [
    {
     "name": "stdout",
     "output_type": "stream",
     "text": [
      "[['hello']]\n"
     ]
    }
   ],
   "source": [
    "d = []\n",
    "l=[]\n",
    "l.append(\"hello\")\n",
    "d.append(l)\n",
    "print(d)"
   ]
  },
  {
   "cell_type": "code",
   "execution_count": null,
   "metadata": {
    "collapsed": true
   },
   "outputs": [],
   "source": []
  }
 ],
 "metadata": {
  "kernelspec": {
   "display_name": "Python 3",
   "language": "python",
   "name": "python3"
  },
  "language_info": {
   "codemirror_mode": {
    "name": "ipython",
    "version": 3
   },
   "file_extension": ".py",
   "mimetype": "text/x-python",
   "name": "python",
   "nbconvert_exporter": "python",
   "pygments_lexer": "ipython3",
   "version": "3.5.3"
  }
 },
 "nbformat": 4,
 "nbformat_minor": 2
}
